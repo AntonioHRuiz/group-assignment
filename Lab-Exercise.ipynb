{
 "cells": [
  {
   "cell_type": "code",
   "execution_count": 4,
   "metadata": {},
   "outputs": [
    {
     "name": "stdin",
     "output_type": "stream",
     "text": [
      "Enter your first name here please:  antonio\n",
      "Enter the amount of times you want this program to run:  4\n"
     ]
    },
    {
     "name": "stdout",
     "output_type": "stream",
     "text": [
      "Antonio\n",
      "Antonio\n",
      "Antonio\n",
      "Antonio\n",
      "I just printed Antonio 4 time(s)!\n"
     ]
    }
   ],
   "source": [
    "name = input('Enter your first name here please: ')\n",
    "iterations = int(input('Enter the amount of times you want this program to run: '))\n",
    "count = 0\n",
    "name = name.capitalize()\n",
    "for i in range(iterations):\n",
    "    print(name)\n",
    "    count += 1\n",
    "print('I just printed', name, count, 'time(s)!')"
   ]
  },
  {
   "cell_type": "code",
   "execution_count": null,
   "metadata": {},
   "outputs": [],
   "source": []
  }
 ],
 "metadata": {
  "kernelspec": {
   "display_name": "Python 3",
   "language": "python",
   "name": "python3"
  },
  "language_info": {
   "codemirror_mode": {
    "name": "ipython",
    "version": 3
   },
   "file_extension": ".py",
   "mimetype": "text/x-python",
   "name": "python",
   "nbconvert_exporter": "python",
   "pygments_lexer": "ipython3",
   "version": "3.8.3"
  }
 },
 "nbformat": 4,
 "nbformat_minor": 4
}
